{
 "cells": [
  {
   "cell_type": "code",
   "execution_count": 1,
   "id": "439cfb57-55e7-4603-ad39-8ef0d7e54bda",
   "metadata": {},
   "outputs": [
    {
     "name": "stdout",
     "output_type": "stream",
     "text": [
      "hello world\n"
     ]
    }
   ],
   "source": [
    "print(\"hello world\")"
   ]
  },
  {
   "cell_type": "code",
   "execution_count": 2,
   "id": "a51b998c-d147-4118-b776-1059e226832f",
   "metadata": {},
   "outputs": [
    {
     "name": "stdout",
     "output_type": "stream",
     "text": [
      "0\n",
      "1\n",
      "2\n",
      "3\n",
      "4\n",
      "5\n",
      "6\n",
      "7\n",
      "8\n",
      "9\n"
     ]
    }
   ],
   "source": [
    "x = 10\n",
    "for i in range(x):\n",
    "    print(i)"
   ]
  },
  {
   "cell_type": "code",
   "execution_count": 6,
   "id": "6830f0f1-7898-4268-b2a3-95ee791d677a",
   "metadata": {},
   "outputs": [
    {
     "name": "stdout",
     "output_type": "stream",
     "text": [
      "aditya"
     ]
    }
   ],
   "source": [
    "for i in 'aditya':\n",
    "    print(i, end='')"
   ]
  },
  {
   "cell_type": "code",
   "execution_count": 1,
   "id": "e2a55ad0-8a1c-4cad-81c9-b1e77464276b",
   "metadata": {},
   "outputs": [
    {
     "name": "stdout",
     "output_type": "stream",
     "text": [
      "aditya\n",
      "akshit\n"
     ]
    }
   ],
   "source": [
    "names = ['aditya','akshit']\n",
    "for i in names:\n",
    "    print(i)"
   ]
  },
  {
   "cell_type": "code",
   "execution_count": 6,
   "id": "2a1353e7-b457-4411-92d3-3fe45b6117cc",
   "metadata": {},
   "outputs": [
    {
     "name": "stdout",
     "output_type": "stream",
     "text": [
      "d\n",
      "t\n"
     ]
    }
   ],
   "source": [
    "names = ['aditya','akshit']\n",
    "print(names[0][1])\n",
    "print(names[1][5])"
   ]
  },
  {
   "cell_type": "code",
   "execution_count": 9,
   "id": "73267f55-95b3-4360-969a-d1f62710797a",
   "metadata": {},
   "outputs": [
    {
     "name": "stdout",
     "output_type": "stream",
     "text": [
      "19\n"
     ]
    }
   ],
   "source": [
    "total = 0\n",
    "for number in [2, -3, -5, 16, 9]:\n",
    "    total = total + number\n",
    "print(total)"
   ]
  },
  {
   "cell_type": "code",
   "execution_count": 16,
   "id": "7b3ec50c-e5ee-42a6-9150-69710f529591",
   "metadata": {},
   "outputs": [
    {
     "name": "stdin",
     "output_type": "stream",
     "text": [
      "Enter the number of the students :  98\n",
      "Enter the number of the students :  76\n",
      "Enter the number of the students :  71\n",
      "Enter the number of the students :  87\n",
      "Enter the number of the students :  83\n",
      "Enter the number of the students :  90\n",
      "Enter the number of the students :  57\n",
      "Enter the number of the students :  79\n",
      "Enter the number of the students :  82\n",
      "Enter the number of the students :  94\n"
     ]
    },
    {
     "name": "stdout",
     "output_type": "stream",
     "text": [
      "The avg of the students are :  81.7\n"
     ]
    }
   ],
   "source": [
    "total = 0\n",
    "count = 0\n",
    "for i in range(10):\n",
    "    number = int(input(\"Enter the number of the students : \"))\n",
    "    total = total + number\n",
    "    count += 1\n",
    "    avg = total / count\n",
    "print(\"The avg of the students are : \", avg)"
   ]
  },
  {
   "cell_type": "markdown",
   "id": "f5afc85d-6b3c-4952-b6cd-4276f4489014",
   "metadata": {},
   "source": [
    "#Range"
   ]
  },
  {
   "cell_type": "code",
   "execution_count": 3,
   "id": "c0b60834-9cc3-4678-b756-165d7c216872",
   "metadata": {},
   "outputs": [
    {
     "name": "stdout",
     "output_type": "stream",
     "text": [
      "5 6 7 8 9 "
     ]
    }
   ],
   "source": [
    "for i in range(5,10):\n",
    "    print(i, end=\" \")"
   ]
  },
  {
   "cell_type": "code",
   "execution_count": 4,
   "id": "201a8daa-9fd7-432d-93bd-93c9cb37b532",
   "metadata": {},
   "outputs": [
    {
     "name": "stdout",
     "output_type": "stream",
     "text": [
      "0 2 4 6 8 "
     ]
    }
   ],
   "source": [
    "for i in range(0, 10, 2):\n",
    "    print(i, end=\" \")"
   ]
  },
  {
   "cell_type": "code",
   "execution_count": 6,
   "id": "2a08b7a0-722f-4c60-8c36-1d34e758ed4b",
   "metadata": {},
   "outputs": [
    {
     "name": "stdout",
     "output_type": "stream",
     "text": [
      "10 8 6 4 2 "
     ]
    }
   ],
   "source": [
    "for i in range(10, 0, -2):\n",
    "    print(i, end=\" \")"
   ]
  },
  {
   "cell_type": "code",
   "execution_count": 13,
   "id": "d4764278-b638-4240-b81a-49ddde0f9516",
   "metadata": {},
   "outputs": [
    {
     "name": "stdout",
     "output_type": "stream",
     "text": [
      " 1   1050.00\n",
      " 2   1102.50\n",
      " 3   1157.63\n",
      " 4   1215.51\n",
      " 5   1276.28\n",
      " 6   1340.10\n",
      " 7   1407.10\n",
      " 8   1477.46\n",
      " 9   1551.33\n",
      "10   1628.89\n"
     ]
    }
   ],
   "source": [
    "#Calcuating the Compound Interest\n",
    "principal = 1000\n",
    "rate = 5/100\n",
    "for year in range(1, 11):\n",
    "    amount = principal*(1 + rate)**year\n",
    "    print(f'{year:>2}{amount:>10.2f}')"
   ]
  },
  {
   "cell_type": "markdown",
   "id": "bcea7a4c-6d23-491f-a3a4-c1731855576d",
   "metadata": {},
   "source": [
    "# Break and Conitune Statements"
   ]
  },
  {
   "cell_type": "code",
   "execution_count": 14,
   "id": "fce3b38a-f031-4b8b-96b6-177596c1e10b",
   "metadata": {},
   "outputs": [
    {
     "name": "stdout",
     "output_type": "stream",
     "text": [
      "0 1 2 3 4 5 6 7 8 9 "
     ]
    }
   ],
   "source": [
    "for number in range(100):\n",
    "    if number == 10:\n",
    "        break\n",
    "    print(number, end=\" \")"
   ]
  },
  {
   "cell_type": "code",
   "execution_count": 16,
   "id": "81a5b3fd-4f27-452b-803d-b4b56d1e8c0b",
   "metadata": {},
   "outputs": [
    {
     "name": "stdout",
     "output_type": "stream",
     "text": [
      "0 1 2 3 4 5 6 7 8 9 11 12 13 14 15 16 17 18 19 "
     ]
    }
   ],
   "source": [
    "for number in range(20):\n",
    "    if number == 10:\n",
    "        continue\n",
    "    print(number, end=\" \")"
   ]
  },
  {
   "cell_type": "markdown",
   "id": "b694564b-f1ec-47b7-965a-3421a84aa7fd",
   "metadata": {},
   "source": [
    "#Boolean Operators and, or and not"
   ]
  },
  {
   "cell_type": "code",
   "execution_count": 18,
   "id": "1865170c-0d68-4284-b748-24386ee6841f",
   "metadata": {},
   "outputs": [
    {
     "name": "stdout",
     "output_type": "stream",
     "text": [
      "Senior Female\n"
     ]
    }
   ],
   "source": [
    "gender = 'female'\n",
    "age = 70\n",
    "if gender == 'female' and age >= 65:\n",
    "    print('Senior Female')"
   ]
  },
  {
   "cell_type": "code",
   "execution_count": 19,
   "id": "017bf4f8-0907-4342-9689-c13a1a3c3196",
   "metadata": {},
   "outputs": [
    {
     "name": "stdout",
     "output_type": "stream",
     "text": [
      "Student get an A\n"
     ]
    }
   ],
   "source": [
    "semester_average = 83\n",
    "final_exam = 95\n",
    "if semester_average >= 90 or final_exam >=90:\n",
    "    print('Student get an A')"
   ]
  },
  {
   "cell_type": "markdown",
   "id": "67f9c497-07f3-4425-9637-727348b8ffab",
   "metadata": {},
   "source": [
    "# Mean Median and Mode"
   ]
  },
  {
   "cell_type": "code",
   "execution_count": 20,
   "id": "fa484e3d-3957-48ae-aa51-25d3467439cb",
   "metadata": {},
   "outputs": [],
   "source": [
    "#mean = the average value in a set of orders\n",
    "#median = the middle value when all the values are arranged in sorted order\n",
    "#mode = the most frequently occuring value."
   ]
  },
  {
   "cell_type": "code",
   "execution_count": 21,
   "id": "7c45c8c3-1d4c-4d5e-b770-efc8b80c8989",
   "metadata": {},
   "outputs": [
    {
     "data": {
      "text/plain": [
       "79.4"
      ]
     },
     "execution_count": 21,
     "metadata": {},
     "output_type": "execute_result"
    }
   ],
   "source": [
    "grades = [85, 93, 45, 89, 85]\n",
    "sum(grades)/len(grades)"
   ]
  },
  {
   "cell_type": "code",
   "execution_count": 24,
   "id": "452c3621-c6df-4438-981e-7fce51f86f12",
   "metadata": {},
   "outputs": [
    {
     "name": "stdout",
     "output_type": "stream",
     "text": [
      "79.4\n",
      "85\n",
      "85\n"
     ]
    }
   ],
   "source": [
    "import statistics\n",
    "grades = [85, 93, 45, 89, 85]\n",
    "print(statistics.mean(grades))\n",
    "print(statistics.median(grades))\n",
    "print(statistics.mode(grades))"
   ]
  },
  {
   "cell_type": "code",
   "execution_count": 25,
   "id": "5f7860e3-2601-4dfb-83a0-a884a5b7e095",
   "metadata": {},
   "outputs": [
    {
     "data": {
      "text/plain": [
       "[45, 85, 85, 89, 93]"
      ]
     },
     "execution_count": 25,
     "metadata": {},
     "output_type": "execute_result"
    }
   ],
   "source": [
    "grades = [85, 93, 45, 89, 85]\n",
    "sorted(grades)"
   ]
  },
  {
   "cell_type": "markdown",
   "id": "98711dc0-eed4-47bc-911c-5e1ef21fd85c",
   "metadata": {},
   "source": [
    "# Check if number is Palindrome or Not"
   ]
  },
  {
   "cell_type": "code",
   "execution_count": 8,
   "id": "807fb4da-e871-4f65-b7ae-f8dd846ddb65",
   "metadata": {},
   "outputs": [
    {
     "name": "stdin",
     "output_type": "stream",
     "text": [
      "Enter a number you want to check :  45554\n"
     ]
    },
    {
     "name": "stdout",
     "output_type": "stream",
     "text": [
      "45554 is a palindrome!\n"
     ]
    }
   ],
   "source": [
    "number = int(input(\"Enter a number you want to check : \"))\n",
    "for i in range(5):\n",
    "    first_digit = number // 10000\n",
    "    last_digit = number % 10\n",
    "\n",
    "    second_digit = (number // 1000) % 10\n",
    "    fourth_digit = (number // 10) % 10\n",
    "\n",
    "if first_digit == last_digit and second_digit == fourth_digit:\n",
    "    print(f\"{number} is a palindrome!\")\n",
    "else:\n",
    "    print(f\"{number} is not a palindrome!\")"
   ]
  },
  {
   "cell_type": "markdown",
   "id": "b93387e7-e656-4ca4-a69c-f32ca19212eb",
   "metadata": {},
   "source": [
    "# Factorial of a number"
   ]
  },
  {
   "cell_type": "code",
   "execution_count": 1,
   "id": "c8bb4e19-64ab-438f-aad6-b590bfbec7fd",
   "metadata": {},
   "outputs": [
    {
     "name": "stdin",
     "output_type": "stream",
     "text": [
      "Enter a number :  6\n"
     ]
    },
    {
     "name": "stdout",
     "output_type": "stream",
     "text": [
      "720\n"
     ]
    }
   ],
   "source": [
    "number = int(input(\"Enter a number : \"))\n",
    "fact_total = 1\n",
    "\n",
    "for i in range(number, 0, -1):\n",
    "    fact_total = fact_total * i\n",
    "print(fact_total)"
   ]
  },
  {
   "cell_type": "markdown",
   "id": "76d55a80-73c1-4253-9b69-7f4922b10c0d",
   "metadata": {},
   "source": [
    "# Arguments"
   ]
  },
  {
   "cell_type": "code",
   "execution_count": 1,
   "id": "5a4d8192-09ac-47bf-aabc-924dbbaa92e6",
   "metadata": {},
   "outputs": [
    {
     "data": {
      "text/plain": [
       "7.5"
      ]
     },
     "execution_count": 1,
     "metadata": {},
     "output_type": "execute_result"
    }
   ],
   "source": [
    "def average(*args):\n",
    "    return sum(args)/len(args)\n",
    "\n",
    "average(5, 10)"
   ]
  },
  {
   "cell_type": "code",
   "execution_count": 4,
   "id": "0c2485ec-683e-4845-816e-785457337a5e",
   "metadata": {},
   "outputs": [
    {
     "name": "stdout",
     "output_type": "stream",
     "text": [
      "HELLO\n",
      "hello\n"
     ]
    }
   ],
   "source": [
    "s = \"hello\"\n",
    "print(s.upper())\n",
    "print(s.lower())"
   ]
  },
  {
   "cell_type": "code",
   "execution_count": null,
   "id": "b469cbf3-348f-43bf-8b24-e2ca9b06fd5b",
   "metadata": {},
   "outputs": [],
   "source": []
  }
 ],
 "metadata": {
  "kernelspec": {
   "display_name": "Python [conda env:base] *",
   "language": "python",
   "name": "conda-base-py"
  },
  "language_info": {
   "codemirror_mode": {
    "name": "ipython",
    "version": 3
   },
   "file_extension": ".py",
   "mimetype": "text/x-python",
   "name": "python",
   "nbconvert_exporter": "python",
   "pygments_lexer": "ipython3",
   "version": "3.13.5"
  }
 },
 "nbformat": 4,
 "nbformat_minor": 5
}
