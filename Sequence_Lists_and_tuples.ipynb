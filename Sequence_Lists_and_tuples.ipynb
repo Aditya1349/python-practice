{
 "cells": [
  {
   "cell_type": "markdown",
   "id": "deacbaf4-381b-42c8-a673-dcdb1a3b00a4",
   "metadata": {},
   "source": [
    "# Passing Lists to Functions"
   ]
  },
  {
   "cell_type": "code",
   "execution_count": 54,
   "id": "fb17161f-19ed-4330-8828-2670a0e2bd75",
   "metadata": {},
   "outputs": [
    {
     "data": {
      "text/plain": [
       "[20, 6, 10, 14, 18]"
      ]
     },
     "execution_count": 54,
     "metadata": {},
     "output_type": "execute_result"
    }
   ],
   "source": [
    "#passing an entire list to functions\n",
    "def modify_elements(items):\n",
    "    for i in range(len(items)):\n",
    "        items[i] *=2\n",
    "\n",
    "numbers = [10, 3, 5, 7, 9]\n",
    "\n",
    "modify_elements(numbers)\n",
    "\n",
    "numbers"
   ]
  },
  {
   "cell_type": "code",
   "execution_count": 56,
   "id": "f9278838-d1e8-4ec1-8a4d-5276315c3e71",
   "metadata": {},
   "outputs": [
    {
     "ename": "TypeError",
     "evalue": "'tuple' object does not support item assignment",
     "output_type": "error",
     "traceback": [
      "\u001b[31m---------------------------------------------------------------------------\u001b[39m",
      "\u001b[31mTypeError\u001b[39m                                 Traceback (most recent call last)",
      "\u001b[36mCell\u001b[39m\u001b[36m \u001b[39m\u001b[32mIn[56]\u001b[39m\u001b[32m, line 8\u001b[39m\n\u001b[32m      4\u001b[39m         items[i] *= \u001b[32m2\u001b[39m\n\u001b[32m      6\u001b[39m numbers = (\u001b[32m10\u001b[39m, \u001b[32m2\u001b[39m, \u001b[32m5\u001b[39m, \u001b[32m7\u001b[39m, \u001b[32m9\u001b[39m)\n\u001b[32m----> \u001b[39m\u001b[32m8\u001b[39m modify_element(numbers)\n\u001b[32m     10\u001b[39m numbers\n",
      "\u001b[36mCell\u001b[39m\u001b[36m \u001b[39m\u001b[32mIn[56]\u001b[39m\u001b[32m, line 4\u001b[39m, in \u001b[36mmodify_element\u001b[39m\u001b[34m(items)\u001b[39m\n\u001b[32m      2\u001b[39m \u001b[38;5;28;01mdef\u001b[39;00m\u001b[38;5;250m \u001b[39m\u001b[34mmodify_element\u001b[39m(items):\n\u001b[32m      3\u001b[39m     \u001b[38;5;28;01mfor\u001b[39;00m i \u001b[38;5;129;01min\u001b[39;00m \u001b[38;5;28mrange\u001b[39m(\u001b[38;5;28mlen\u001b[39m(items)):\n\u001b[32m----> \u001b[39m\u001b[32m4\u001b[39m         items[i] *= \u001b[32m2\u001b[39m\n",
      "\u001b[31mTypeError\u001b[39m: 'tuple' object does not support item assignment"
     ]
    }
   ],
   "source": [
    "#passing a tuple to a function\n",
    "def modify_element(items):\n",
    "    for i in range(len(items)):\n",
    "        items[i] *= 2\n",
    "\n",
    "numbers = (10, 2, 5, 7, 9)\n",
    "\n",
    "modify_element(numbers)\n",
    "\n",
    "numbers"
   ]
  },
  {
   "cell_type": "markdown",
   "id": "7f202584-c694-4d8d-9075-83c3893662e5",
   "metadata": {},
   "source": [
    "# Sorting Lists"
   ]
  },
  {
   "cell_type": "code",
   "execution_count": 58,
   "id": "c22ea3f7-ab37-4fac-aa91-2ce0a08d7cc7",
   "metadata": {},
   "outputs": [
    {
     "data": {
      "text/plain": [
       "[1, 2, 3, 4, 5, 6, 7, 8, 9, 10, 11, 12, 13, 14, 15, 16, 17, 18, 19]"
      ]
     },
     "execution_count": 58,
     "metadata": {},
     "output_type": "execute_result"
    }
   ],
   "source": [
    "#sorting in ascending order\n",
    "numbers1 = [10, 9, 8, 7, 6, 5, 4, 3, 2, 1, 15, 14, 13, 12, 11, 19, 18, 17, 16]\n",
    "numbers1.sort()\n",
    "numbers1"
   ]
  },
  {
   "cell_type": "code",
   "execution_count": 60,
   "id": "901c0cf4-21e0-48d4-a172-e3b91b50e228",
   "metadata": {},
   "outputs": [
    {
     "data": {
      "text/plain": [
       "[19, 18, 17, 16, 15, 14, 13, 12, 11, 10, 9, 8, 7, 6, 5, 4, 3, 2, 1]"
      ]
     },
     "execution_count": 60,
     "metadata": {},
     "output_type": "execute_result"
    }
   ],
   "source": [
    "#sorting in descending order\n",
    "numbers1.sort(reverse=True)\n",
    "numbers1"
   ]
  },
  {
   "cell_type": "code",
   "execution_count": 64,
   "id": "93245a96-df81-463f-b804-4706c617289b",
   "metadata": {},
   "outputs": [
    {
     "data": {
      "text/plain": [
       "['a', 'a', 'd', 'd', 'f', 'g', 'h', 'i', 'j', 'k', 'l', 's', 's']"
      ]
     },
     "execution_count": 64,
     "metadata": {},
     "output_type": "execute_result"
    }
   ],
   "source": [
    "#sorting the string in ascending order\n",
    "letters = 'jsdilaghfkasd'\n",
    "ascending_order = sorted(letters)\n",
    "ascending_order"
   ]
  },
  {
   "cell_type": "code",
   "execution_count": 65,
   "id": "876dbb92-d6a1-4369-bc62-0b13d8b77afc",
   "metadata": {},
   "outputs": [
    {
     "data": {
      "text/plain": [
       "['blue', 'green', 'orange', 'red', 'yellow']"
      ]
     },
     "execution_count": 65,
     "metadata": {},
     "output_type": "execute_result"
    }
   ],
   "source": [
    "#sorting the tuple in ascending order\n",
    "color = ('red', 'orange', 'yellow', 'green', 'blue')\n",
    "ascending_order = sorted(color)\n",
    "ascending_order"
   ]
  },
  {
   "cell_type": "code",
   "execution_count": 67,
   "id": "d4955adf-7c3d-4c3d-8324-472c526293aa",
   "metadata": {},
   "outputs": [
    {
     "data": {
      "text/plain": [
       "['Bacon', 'Cookies', 'Grapes', 'apples', 'pizza', 'steak']"
      ]
     },
     "execution_count": 67,
     "metadata": {},
     "output_type": "execute_result"
    }
   ],
   "source": [
    "foods = ['Cookies', 'pizza', 'Grapes', 'apples', 'steak', 'Bacon']\n",
    "foods.sort()\n",
    "foods"
   ]
  },
  {
   "cell_type": "code",
   "execution_count": 68,
   "id": "2cf55e40-482f-47a9-8396-d60c10ea1a9e",
   "metadata": {},
   "outputs": [
    {
     "data": {
      "text/plain": [
       "['Bacon', 'Cookies', 'Grapes', 'apples', 'pizza', 'steak']"
      ]
     },
     "execution_count": 68,
     "metadata": {},
     "output_type": "execute_result"
    }
   ],
   "source": [
    "foods = ['Cookies', 'pizza', 'Grapes', 'apples', 'steak', 'Bacon']\n",
    "ascending_order = sorted(foods)\n",
    "ascending_order"
   ]
  },
  {
   "cell_type": "markdown",
   "id": "2580d8b8-3e42-4102-818c-32df41bae8f0",
   "metadata": {},
   "source": [
    "# Searching Sequences"
   ]
  },
  {
   "cell_type": "code",
   "execution_count": 72,
   "id": "788362d7-dcc1-4bf7-8f6c-575fb39f3863",
   "metadata": {},
   "outputs": [
    {
     "data": {
      "text/plain": [
       "10"
      ]
     },
     "execution_count": 72,
     "metadata": {},
     "output_type": "execute_result"
    }
   ],
   "source": [
    "# List method \"index\" tales as am arguments a search key - the value to locate in the list-then seaches through the list from index 0 \n",
    "# and returns the index of the first element that matches the search key \n",
    "numbers2 = [10, 9, 8, 7, 6, 5, 4, 3, 2, 1, 15, 14, 13, 12, 11, 19, 18, 17, 16]\n",
    "\n",
    "#index of number 15 would be 10\n",
    "numbers2.index(15)"
   ]
  },
  {
   "cell_type": "markdown",
   "id": "140d503e-cf41-4248-bc70-d8b577bf0cd5",
   "metadata": {},
   "source": [
    "# Other List Methods"
   ]
  },
  {
   "cell_type": "code",
   "execution_count": 73,
   "id": "195f2dcf-dc51-4e5b-b05a-45015d279671",
   "metadata": {},
   "outputs": [
    {
     "data": {
      "text/plain": [
       "['red', 'oragne', 'blue', 'green']"
      ]
     },
     "execution_count": 73,
     "metadata": {},
     "output_type": "execute_result"
    }
   ],
   "source": [
    "#Inserting an Element at a Specific List Index\n",
    "color_names = ['oragne', 'blue', 'green']\n",
    "color_names.insert(0, 'red')\n",
    "color_names"
   ]
  },
  {
   "cell_type": "code",
   "execution_count": 75,
   "id": "0dfb31e1-cd19-456e-a576-d11287a78319",
   "metadata": {},
   "outputs": [
    {
     "data": {
      "text/plain": [
       "['red', 'oragne', 'blue', 'green', 'yello', 'yello']"
      ]
     },
     "execution_count": 75,
     "metadata": {},
     "output_type": "execute_result"
    }
   ],
   "source": [
    "#Adding an Element to the End of a List\n",
    "color_names.append('yello')\n",
    "color_names"
   ]
  },
  {
   "cell_type": "code",
   "execution_count": 76,
   "id": "b160d4e0-6235-4b90-9bf8-50dff27a24b2",
   "metadata": {},
   "outputs": [
    {
     "data": {
      "text/plain": [
       "['red', 'oragne', 'blue', 'green', 'yello', 'yello', 'violet', 'black']"
      ]
     },
     "execution_count": 76,
     "metadata": {},
     "output_type": "execute_result"
    }
   ],
   "source": [
    "#Adding All the Elments of a Sequence to the End of the list\n",
    "color_names.extend(['violet', 'black'])\n",
    "color_names"
   ]
  },
  {
   "cell_type": "code",
   "execution_count": 79,
   "id": "84cb3ae4-99b2-4470-a0e2-d80bdf2c1b82",
   "metadata": {},
   "outputs": [
    {
     "data": {
      "text/plain": [
       "['a', 'b', 'c']"
      ]
     },
     "execution_count": 79,
     "metadata": {},
     "output_type": "execute_result"
    }
   ],
   "source": [
    "sample_list = []\n",
    "s = 'abc'\n",
    "sample_list.extend(s)\n",
    "sample_list"
   ]
  },
  {
   "cell_type": "code",
   "execution_count": 80,
   "id": "0a740e08-7415-4b16-af49-1f0ccd82ef09",
   "metadata": {},
   "outputs": [
    {
     "data": {
      "text/plain": [
       "['a', 'b', 'c', 1, 2, 3]"
      ]
     },
     "execution_count": 80,
     "metadata": {},
     "output_type": "execute_result"
    }
   ],
   "source": [
    "t = (1, 2, 3)\n",
    "sample_list.extend(t)\n",
    "sample_list"
   ]
  },
  {
   "cell_type": "code",
   "execution_count": 82,
   "id": "973df93f-54be-4638-8ef0-7ed1d2728e9b",
   "metadata": {},
   "outputs": [
    {
     "data": {
      "text/plain": [
       "['a', 'b', 'c', 1, 2, 3, 4, 5, 6]"
      ]
     },
     "execution_count": 82,
     "metadata": {},
     "output_type": "execute_result"
    }
   ],
   "source": [
    "#or anothe way of adding the tuple to list can be...\n",
    "sample_list.extend((4, 5, 6))\n",
    "sample_list"
   ]
  },
  {
   "cell_type": "code",
   "execution_count": 85,
   "id": "d6fd526e-2958-439b-9639-f363a3ea321c",
   "metadata": {},
   "outputs": [
    {
     "data": {
      "text/plain": [
       "['red', 'oragne', 'blue', 'yello', 'violet', 'black']"
      ]
     },
     "execution_count": 85,
     "metadata": {},
     "output_type": "execute_result"
    }
   ],
   "source": [
    "#Removing the First Occurrence of an Element in a list\n",
    "color_names.remove('yello')\n",
    "color_names"
   ]
  },
  {
   "cell_type": "code",
   "execution_count": 87,
   "id": "aa51150d-cb0b-40d6-9602-744ad47e5041",
   "metadata": {},
   "outputs": [
    {
     "data": {
      "text/plain": [
       "[]"
      ]
     },
     "execution_count": 87,
     "metadata": {},
     "output_type": "execute_result"
    }
   ],
   "source": [
    "#emptying a list\n",
    "color_names.clear()\n",
    "color_names"
   ]
  },
  {
   "cell_type": "code",
   "execution_count": 91,
   "id": "03ab1caf-6d57-4c08-9f2f-89ecebe2465e",
   "metadata": {},
   "outputs": [
    {
     "name": "stdout",
     "output_type": "stream",
     "text": [
      "2\n",
      "1 appears 3 times in responses\n",
      "2 appears 5 times in responses\n",
      "3 appears 8 times in responses\n",
      "4 appears 2 times in responses\n",
      "5 appears 2 times in responses\n"
     ]
    }
   ],
   "source": [
    "#Counting the number of occurences of an item in a list\n",
    "responses = [1, 2, 5, 4, 3, 5, 2, 1, 3, 3, 1, 4, 3, 3, 3, 2, 3, 3, 2, 2,]\n",
    "print(responses.count(5))\n",
    "for i in range(1, 6):\n",
    "    print(f\"{i} appears {responses.count(i)} times in responses\")"
   ]
  },
  {
   "cell_type": "code",
   "execution_count": 93,
   "id": "b6d52719-de8c-4f6f-9ff3-326508f86ce5",
   "metadata": {},
   "outputs": [
    {
     "data": {
      "text/plain": [
       "['blue', 'orange', 'yellow', 'green', 'red']"
      ]
     },
     "execution_count": 93,
     "metadata": {},
     "output_type": "execute_result"
    }
   ],
   "source": [
    "#Reversing a List's Elements\n",
    "color_names = ['red', 'green', 'yellow', 'orange', 'blue']\n",
    "color_names.reverse()\n",
    "color_names"
   ]
  },
  {
   "cell_type": "code",
   "execution_count": 96,
   "id": "d91b53dd-d6f8-4308-9eb0-8017ebdc1729",
   "metadata": {},
   "outputs": [
    {
     "data": {
      "text/plain": [
       "['blue', 'orange', 'yellow', 'green', 'red']"
      ]
     },
     "execution_count": 96,
     "metadata": {},
     "output_type": "execute_result"
    }
   ],
   "source": [
    "#Copying a list\n",
    "copied_list = color_names.copy()\n",
    "copied_list\n",
    "#or\n",
    "copied_list1 = color_names[:]\n",
    "copied_list1"
   ]
  },
  {
   "cell_type": "code",
   "execution_count": 107,
   "id": "97bf2e60-20ea-4779-92f5-2056511e93ef",
   "metadata": {},
   "outputs": [
    {
     "data": {
      "text/plain": [
       "['yellow', 'violet', 'red', 'green']"
      ]
     },
     "execution_count": 107,
     "metadata": {},
     "output_type": "execute_result"
    }
   ],
   "source": [
    "#pracitse\n",
    "rainbow = ['green', 'orange', 'violet']\n",
    "rainbow.index('violet')\n",
    "rainbow.insert(rainbow.index('violet'), 'red')\n",
    "rainbow.append('yellow')\n",
    "rainbow.reverse()\n",
    "rainbow.remove('orange')\n",
    "\n",
    "rainbow"
   ]
  },
  {
   "cell_type": "code",
   "execution_count": null,
   "id": "76cd7474-0152-46e3-afb4-b2ac026de904",
   "metadata": {},
   "outputs": [],
   "source": []
  }
 ],
 "metadata": {
  "kernelspec": {
   "display_name": "Python [conda env:base] *",
   "language": "python",
   "name": "conda-base-py"
  },
  "language_info": {
   "codemirror_mode": {
    "name": "ipython",
    "version": 3
   },
   "file_extension": ".py",
   "mimetype": "text/x-python",
   "name": "python",
   "nbconvert_exporter": "python",
   "pygments_lexer": "ipython3",
   "version": "3.13.5"
  }
 },
 "nbformat": 4,
 "nbformat_minor": 5
}
