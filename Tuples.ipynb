{
 "cells": [
  {
   "cell_type": "markdown",
   "id": "d0ad1568-203c-4d07-956c-b670220e2204",
   "metadata": {},
   "source": [
    "# Tuples"
   ]
  },
  {
   "cell_type": "code",
   "execution_count": 2,
   "id": "29f00a7d-ded4-46dc-bf3a-e75879852e90",
   "metadata": {},
   "outputs": [
    {
     "name": "stdout",
     "output_type": "stream",
     "text": [
      "('john', 'Green', 3.3)\n"
     ]
    },
    {
     "data": {
      "text/plain": [
       "3"
      ]
     },
     "execution_count": 2,
     "metadata": {},
     "output_type": "execute_result"
    }
   ],
   "source": [
    "student_tuple = 'john', 'Green', 3.3\n",
    "print(student_tuple)\n",
    "len(student_tuple)"
   ]
  },
  {
   "cell_type": "code",
   "execution_count": 3,
   "id": "718d9812-1372-4263-bdd0-f492504096c0",
   "metadata": {},
   "outputs": [
    {
     "data": {
      "text/plain": [
       "33361"
      ]
     },
     "execution_count": 3,
     "metadata": {},
     "output_type": "execute_result"
    }
   ],
   "source": [
    "time_tuple = (9, 16 ,1 )\n",
    "time_tuple[0] * 3600 + time_tuple[1] * 60 + time_tuple[2]"
   ]
  },
  {
   "cell_type": "code",
   "execution_count": 32,
   "id": "1f8fbbab-42bb-4dff-bedd-16c24079e542",
   "metadata": {},
   "outputs": [
    {
     "name": "stdout",
     "output_type": "stream",
     "text": [
      "('Amanda', 'Blue', [98, 85, 87])\n"
     ]
    }
   ],
   "source": [
    "student_tuple = ('Amanda', 'Blue', [98, 75, 87])\n",
    "student_tuple[2][1] = 85\n",
    "print(student_tuple)"
   ]
  },
  {
   "cell_type": "code",
   "execution_count": 6,
   "id": "91c8a55a-02ff-4ca1-bf1a-10ed0214d8e4",
   "metadata": {},
   "outputs": [
    {
     "name": "stdout",
     "output_type": "stream",
     "text": [
      "Amanda\n",
      "[98, 75, 87]\n"
     ]
    }
   ],
   "source": [
    "student_tuple1 = ('Amanda', [98, 75, 87])\n",
    "first_name, grades = student_tuple\n",
    "print(first_name)\n",
    "print(grades)"
   ]
  },
  {
   "cell_type": "code",
   "execution_count": 13,
   "id": "de2c89d5-643d-48c6-8630-86d71fd3b75e",
   "metadata": {},
   "outputs": [
    {
     "name": "stdout",
     "output_type": "stream",
     "text": [
      "h i\n",
      "2 3 5\n",
      "10 20 30\n"
     ]
    }
   ],
   "source": [
    "#following code unpacks a string, a list, and a squence produced by range\n",
    "first, second = 'hi'\n",
    "print(f\"{first} {second}\")\n",
    "\n",
    "number1, number2, number3 = [2,3,5]\n",
    "print(f\"{number1} {number2} {number3}\")\n",
    "\n",
    "number1, number2, number3 = range(10, 40, 10)\n",
    "print(f\"{number1} {number2} {number3}\")"
   ]
  },
  {
   "cell_type": "code",
   "execution_count": 14,
   "id": "3ed9e327-b1a6-4b31-b8f4-be73dd37c0d9",
   "metadata": {},
   "outputs": [
    {
     "data": {
      "text/plain": [
       "[(0, 'Red'), (1, 'Orange'), (2, 'Green')]"
      ]
     },
     "execution_count": 14,
     "metadata": {},
     "output_type": "execute_result"
    }
   ],
   "source": [
    "#The Preferred mechnaism for accessing an element's index and value is the built-in function #Enumerate\n",
    "colors = ['Red', 'Orange', 'Green']\n",
    "\n",
    "list(enumerate(colors))"
   ]
  },
  {
   "cell_type": "code",
   "execution_count": 15,
   "id": "65785a73-cab3-4073-8efe-4d5019f22e4f",
   "metadata": {},
   "outputs": [
    {
     "data": {
      "text/plain": [
       "((0, 'Red'), (1, 'Orange'), (2, 'Green'))"
      ]
     },
     "execution_count": 15,
     "metadata": {},
     "output_type": "execute_result"
    }
   ],
   "source": [
    "tuple(enumerate(colors))"
   ]
  },
  {
   "cell_type": "code",
   "execution_count": 16,
   "id": "239e8443-9d8b-4795-8c9e-1825aee14cf7",
   "metadata": {},
   "outputs": [
    {
     "name": "stdout",
     "output_type": "stream",
     "text": [
      "0: Red\n",
      "1: Orange\n",
      "2: Green\n"
     ]
    }
   ],
   "source": [
    "for index, value in enumerate(colors):\n",
    "    print(f\"{index}: {value}\")"
   ]
  },
  {
   "cell_type": "code",
   "execution_count": 20,
   "id": "baed4592-9eca-471b-bd3c-9913dc4fadd6",
   "metadata": {},
   "outputs": [
    {
     "name": "stdout",
     "output_type": "stream",
     "text": [
      "    0:       19  *******************\n",
      "    1:        3  ***\n",
      "    2:       15  ***************\n",
      "    3:        7  *******\n",
      "    4:       11  ***********\n"
     ]
    }
   ],
   "source": [
    "#\"\"\"\"\"Displaying a bar chart \"\"\"\"\"\n",
    "numbers = [19, 3, 15, 7, 11]\n",
    "for index, value in enumerate(numbers):\n",
    "    print(f\"{index}: {value:>8}  {\"*\" * value}\")"
   ]
  },
  {
   "cell_type": "code",
   "execution_count": 29,
   "id": "e1ad902a-f2d9-4bb4-985e-94810bc81afb",
   "metadata": {},
   "outputs": [
    {
     "name": "stdout",
     "output_type": "stream",
     "text": [
      "Monday : High = 87, Low = 65\n"
     ]
    }
   ],
   "source": [
    "high_low = ('Monday', 87, 65)\n",
    "print(f\"{high_low[0]} : High = {high_low[1]}, Low = {high_low[2]}\")"
   ]
  },
  {
   "cell_type": "code",
   "execution_count": 31,
   "id": "8aa03dd3-4f6e-4a35-8c9f-3395b18b3d55",
   "metadata": {},
   "outputs": [
    {
     "name": "stdout",
     "output_type": "stream",
     "text": [
      "0: aditya\n",
      "1: akshit\n",
      "2: manju\n"
     ]
    }
   ],
   "source": [
    "names = ['Aditya', 'Akshit', 'Manju']\n",
    "for index, name in enumerate(names):\n",
    "    print(f\"{index}: {name}\")"
   ]
  },
  {
   "cell_type": "markdown",
   "id": "6d87e996-6dd7-4e75-b4ae-754db5844121",
   "metadata": {},
   "source": [
    "# Sequence Slicing"
   ]
  },
  {
   "cell_type": "code",
   "execution_count": 35,
   "id": "1615ba1d-2597-48eb-a820-451dfb3c1077",
   "metadata": {},
   "outputs": [],
   "source": [
    "numbers = [2, 3, 5, 7, 11, 13, 17, 19]"
   ]
  },
  {
   "cell_type": "code",
   "execution_count": 36,
   "id": "7d196681-6b01-4cca-928e-85b85a00db75",
   "metadata": {},
   "outputs": [
    {
     "data": {
      "text/plain": [
       "[5, 7, 11, 13]"
      ]
     },
     "execution_count": 36,
     "metadata": {},
     "output_type": "execute_result"
    }
   ],
   "source": [
    "#specifing a slice with starting and ending indices\n",
    "numbers[2:6]"
   ]
  },
  {
   "cell_type": "code",
   "execution_count": 38,
   "id": "cbeb6421-7c48-4f81-821f-a81f9d016e53",
   "metadata": {},
   "outputs": [
    {
     "data": {
      "text/plain": [
       "[2, 3, 5, 7, 11, 13]"
      ]
     },
     "execution_count": 38,
     "metadata": {},
     "output_type": "execute_result"
    }
   ],
   "source": [
    "#specifying a slice with only an Ending Index\n",
    "numbers[:6]"
   ]
  },
  {
   "cell_type": "code",
   "execution_count": 39,
   "id": "70d55480-54fc-4958-b754-cd38a7c62a08",
   "metadata": {},
   "outputs": [
    {
     "data": {
      "text/plain": [
       "[7, 11, 13, 17, 19]"
      ]
     },
     "execution_count": 39,
     "metadata": {},
     "output_type": "execute_result"
    }
   ],
   "source": [
    "#specifying a slice with only a starting index\n",
    "numbers[3:]"
   ]
  },
  {
   "cell_type": "code",
   "execution_count": 42,
   "id": "ed96c376-36b9-41f8-8372-a2b1bb4cc4d7",
   "metadata": {},
   "outputs": [
    {
     "data": {
      "text/plain": [
       "[2, 3, 5, 7, 11, 13, 17, 19]"
      ]
     },
     "execution_count": 42,
     "metadata": {},
     "output_type": "execute_result"
    }
   ],
   "source": [
    "#specifying a slice with NO indices\n",
    "numbers[:]"
   ]
  },
  {
   "cell_type": "code",
   "execution_count": 43,
   "id": "95a3696c-9999-47d8-b95e-5470f544de25",
   "metadata": {},
   "outputs": [
    {
     "data": {
      "text/plain": [
       "[2, 5, 11, 17]"
      ]
     },
     "execution_count": 43,
     "metadata": {},
     "output_type": "execute_result"
    }
   ],
   "source": [
    "#Slicing with steps\n",
    "numbers[::2]"
   ]
  },
  {
   "cell_type": "code",
   "execution_count": 47,
   "id": "5dcd47ea-b277-4ab3-a104-50d4b6b16a24",
   "metadata": {},
   "outputs": [
    {
     "data": {
      "text/plain": [
       "[19, 17, 13, 11, 7, 5, 3, 2]"
      ]
     },
     "execution_count": 47,
     "metadata": {},
     "output_type": "execute_result"
    }
   ],
   "source": [
    "#Slicing with Negative Indicies and Steps\n",
    "numbers[::-1]\n",
    "#or\n",
    "numbers[-1:-9:-1]"
   ]
  },
  {
   "cell_type": "code",
   "execution_count": 49,
   "id": "3adb38e4-a74f-4dba-acc8-054cbfeb55d5",
   "metadata": {},
   "outputs": [
    {
     "data": {
      "text/plain": [
       "['two', 'three', 'five', 7, 11, 13, 17, 19]"
      ]
     },
     "execution_count": 49,
     "metadata": {},
     "output_type": "execute_result"
    }
   ],
   "source": [
    "numbers[0:3] = ['two', 'three', 'five']\n",
    "numbers"
   ]
  },
  {
   "cell_type": "markdown",
   "id": "511257bf-bff3-4e26-ab68-54d85ffb71c5",
   "metadata": {},
   "source": [
    "# del statement"
   ]
  },
  {
   "cell_type": "code",
   "execution_count": 3,
   "id": "20d0f434-8570-464b-bbf0-54d51d3ea883",
   "metadata": {},
   "outputs": [
    {
     "data": {
      "text/plain": [
       "[0, 1, 2, 3, 4, 5, 6, 7, 8]"
      ]
     },
     "execution_count": 3,
     "metadata": {},
     "output_type": "execute_result"
    }
   ],
   "source": [
    "numbers = list(range(0,10))\n",
    "del numbers[-1]\n",
    "numbers"
   ]
  },
  {
   "cell_type": "code",
   "execution_count": 4,
   "id": "36a771d5-4cbb-439c-ae3d-0d4d3361cc30",
   "metadata": {},
   "outputs": [
    {
     "data": {
      "text/plain": [
       "[2, 3, 4, 5, 6, 7, 8]"
      ]
     },
     "execution_count": 4,
     "metadata": {},
     "output_type": "execute_result"
    }
   ],
   "source": [
    "#deleting a slice from a list\n",
    "del numbers[0:2]\n",
    "numbers"
   ]
  },
  {
   "cell_type": "code",
   "execution_count": 11,
   "id": "30776e6e-43c5-49f6-9ed4-80b7a7c59679",
   "metadata": {},
   "outputs": [
    {
     "data": {
      "text/plain": [
       "[5, 6, 7, 8, 9, 10, 11, 12, 13, 14]"
      ]
     },
     "execution_count": 11,
     "metadata": {},
     "output_type": "execute_result"
    }
   ],
   "source": [
    "number = list(range(1,15))\n",
    "del number[0:4]\n",
    "number"
   ]
  },
  {
   "cell_type": "code",
   "execution_count": 12,
   "id": "7ae3c79f-51f9-4052-9531-1df4d8cebaa5",
   "metadata": {},
   "outputs": [
    {
     "data": {
      "text/plain": [
       "[6, 8, 10, 12, 14]"
      ]
     },
     "execution_count": 12,
     "metadata": {},
     "output_type": "execute_result"
    }
   ],
   "source": [
    "del number[::2]\n",
    "number"
   ]
  },
  {
   "cell_type": "code",
   "execution_count": null,
   "id": "8574aef9-cb49-4735-ae4d-82f4d622d78c",
   "metadata": {},
   "outputs": [],
   "source": []
  }
 ],
 "metadata": {
  "kernelspec": {
   "display_name": "Python [conda env:base] *",
   "language": "python",
   "name": "conda-base-py"
  },
  "language_info": {
   "codemirror_mode": {
    "name": "ipython",
    "version": 3
   },
   "file_extension": ".py",
   "mimetype": "text/x-python",
   "name": "python",
   "nbconvert_exporter": "python",
   "pygments_lexer": "ipython3",
   "version": "3.13.5"
  }
 },
 "nbformat": 4,
 "nbformat_minor": 5
}
