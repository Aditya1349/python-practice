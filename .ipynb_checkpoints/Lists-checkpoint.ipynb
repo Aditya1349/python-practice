{
 "cells": [
  {
   "cell_type": "markdown",
   "id": "fe738260-3f50-4933-8c3b-38ac476ad896",
   "metadata": {},
   "source": [
    "# Lists"
   ]
  },
  {
   "cell_type": "code",
   "execution_count": 12,
   "id": "9a7acc4b-b3b2-4d3f-86bb-5da84a727bdb",
   "metadata": {},
   "outputs": [
    {
     "name": "stdout",
     "output_type": "stream",
     "text": [
      "-45\n",
      "0\n"
     ]
    }
   ],
   "source": [
    "c = [-45, 6, 0, 'aditya', 3.33, 'askhit']\n",
    "print(c[0])\n",
    "print(c[2])"
   ]
  },
  {
   "cell_type": "code",
   "execution_count": 7,
   "id": "2188d473-82a5-4075-ae70-b68559fe14dd",
   "metadata": {},
   "outputs": [
    {
     "name": "stdout",
     "output_type": "stream",
     "text": [
      "6\n"
     ]
    }
   ],
   "source": [
    "print(len(c))"
   ]
  },
  {
   "cell_type": "code",
   "execution_count": 8,
   "id": "79d95ff9-8b2e-4fa9-ad8d-d42904bd9f88",
   "metadata": {},
   "outputs": [
    {
     "name": "stdout",
     "output_type": "stream",
     "text": [
      "askhit\n",
      "0\n"
     ]
    }
   ],
   "source": [
    "print(c[-1])\n",
    "print(c[-4])"
   ]
  },
  {
   "cell_type": "code",
   "execution_count": 10,
   "id": "91bbccc1-c0cc-4f9b-9781-32f9c43562c2",
   "metadata": {},
   "outputs": [
    {
     "name": "stdout",
     "output_type": "stream",
     "text": [
      "[3]\n"
     ]
    }
   ],
   "source": [
    "a = 1\n",
    "b = 2\n",
    "c = [a+b]\n",
    "print(c)"
   ]
  },
  {
   "cell_type": "code",
   "execution_count": 14,
   "id": "9d37e1ef-d516-4446-a2ea-461463d6f198",
   "metadata": {},
   "outputs": [
    {
     "name": "stdout",
     "output_type": "stream",
     "text": [
      "[-45, 6, 0, 'aditya', 17, 'askhit']\n"
     ]
    }
   ],
   "source": [
    "#lists are mutable\n",
    "c[4] = 17\n",
    "print(c)"
   ]
  },
  {
   "cell_type": "code",
   "execution_count": 16,
   "id": "b3f1a3e9-2655-44a2-afc2-ca9c1a7750f9",
   "metadata": {},
   "outputs": [
    {
     "name": "stdout",
     "output_type": "stream",
     "text": [
      "-22\n"
     ]
    }
   ],
   "source": [
    "total = c[0] + c[4] + c[1]\n",
    "print(total)"
   ]
  },
  {
   "cell_type": "code",
   "execution_count": 20,
   "id": "c88d3fd6-e237-42f1-822a-03935756b439",
   "metadata": {},
   "outputs": [
    {
     "data": {
      "text/plain": [
       "[1, 2, 3, 4, 5]"
      ]
     },
     "execution_count": 20,
     "metadata": {},
     "output_type": "execute_result"
    }
   ],
   "source": [
    "#appending the list\n",
    "a_list =[]\n",
    "for number in range (1, 6):\n",
    "    a_list += [number]\n",
    "a_list"
   ]
  },
  {
   "cell_type": "code",
   "execution_count": 23,
   "id": "f043ec76-8dec-472d-b373-121efe463880",
   "metadata": {},
   "outputs": [
    {
     "data": {
      "text/plain": [
       "['p', 'y', 't', 'h', 'o', 'n']"
      ]
     },
     "execution_count": 23,
     "metadata": {},
     "output_type": "execute_result"
    }
   ],
   "source": [
    "letters = []\n",
    "\n",
    "for i in 'python':\n",
    "    letters += [i]\n",
    "letters"
   ]
  },
  {
   "cell_type": "code",
   "execution_count": 26,
   "id": "ae44c633-5ed9-4ef3-a634-2c6b32e88b7e",
   "metadata": {},
   "outputs": [
    {
     "name": "stdout",
     "output_type": "stream",
     "text": [
      "[10, 20, 30, 40, 50]\n"
     ]
    }
   ],
   "source": [
    "#Concatenating Lists with +\n",
    "list1 = [10, 20, 30]\n",
    "list2 = [40, 50]\n",
    "concatenated_list = list1 + list2\n",
    "print(concatenated_list)"
   ]
  },
  {
   "cell_type": "code",
   "execution_count": 29,
   "id": "b2bbf1da-9fef-4d5a-9246-bf92a1a563b7",
   "metadata": {},
   "outputs": [
    {
     "name": "stdout",
     "output_type": "stream",
     "text": [
      "0:10\n",
      "1:20\n",
      "2:30\n",
      "3:40\n",
      "4:50\n"
     ]
    }
   ],
   "source": [
    "for i in range(len(concatenated_list)):\n",
    "    print(f'{i}:{concatenated_list[i]}')"
   ]
  },
  {
   "cell_type": "code",
   "execution_count": 32,
   "id": "402401c6-08e2-43a8-8b02-cc1bc98eac86",
   "metadata": {},
   "outputs": [
    {
     "name": "stdout",
     "output_type": "stream",
     "text": [
      "10,20,30,40,50,"
     ]
    }
   ],
   "source": [
    "for i in concatenated_list:\n",
    "    print(i, end=\",\")"
   ]
  },
  {
   "cell_type": "code",
   "execution_count": 79,
   "id": "ad3b9518-6ed9-45f0-8285-3671806e0af1",
   "metadata": {},
   "outputs": [
    {
     "name": "stdout",
     "output_type": "stream",
     "text": [
      "[1, 8, 27, 64]\n"
     ]
    }
   ],
   "source": [
    "def cube_list(values):\n",
    "    cubed_numbers = []  \n",
    "    for i in range(len(values)):\n",
    "        cube = values[i] * values[i] * values[i]\n",
    "        cubed_numbers.append(cube)  \n",
    "    return cubed_numbers\n",
    "\n",
    "numbers = [1, 2, 3, 4]\n",
    "print(cube_list(numbers))"
   ]
  },
  {
   "cell_type": "code",
   "execution_count": 84,
   "id": "6d442fdc-5401-4c88-8126-511c9c60535a",
   "metadata": {},
   "outputs": [
    {
     "name": "stdout",
     "output_type": "stream",
     "text": [
      "[1, 8, 27, 64]\n"
     ]
    }
   ],
   "source": [
    "def cube_list(values):\n",
    "    # This one line does the same as the entire loop in Option 1\n",
    "    return [value * value * value for value in values]\n",
    "\n",
    "numbers = [1, 2, 3, 4]\n",
    "print(cube_list(numbers))"
   ]
  },
  {
   "cell_type": "code",
   "execution_count": 87,
   "id": "6582679d-00f3-4c28-8394-dab11a851be4",
   "metadata": {},
   "outputs": [
    {
     "data": {
      "text/plain": [
       "[1]"
      ]
     },
     "execution_count": 87,
     "metadata": {},
     "output_type": "execute_result"
    }
   ],
   "source": []
  },
  {
   "cell_type": "code",
   "execution_count": null,
   "id": "ddc6dc9e-748f-49a1-af47-75c0fdbf5135",
   "metadata": {},
   "outputs": [],
   "source": []
  }
 ],
 "metadata": {
  "kernelspec": {
   "display_name": "Python [conda env:base] *",
   "language": "python",
   "name": "conda-base-py"
  },
  "language_info": {
   "codemirror_mode": {
    "name": "ipython",
    "version": 3
   },
   "file_extension": ".py",
   "mimetype": "text/x-python",
   "name": "python",
   "nbconvert_exporter": "python",
   "pygments_lexer": "ipython3",
   "version": "3.13.5"
  }
 },
 "nbformat": 4,
 "nbformat_minor": 5
}
